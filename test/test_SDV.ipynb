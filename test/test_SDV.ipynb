{
 "cells": [
  {
   "cell_type": "code",
   "execution_count": 41,
   "id": "material-scratch",
   "metadata": {},
   "outputs": [],
   "source": [
    "import pandas as pd\n",
    "from sklearn.model_selection import train_test_split\n",
    "from sdv.tabular import GaussianCopula"
   ]
  },
  {
   "cell_type": "code",
   "execution_count": 42,
   "id": "normal-bunch",
   "metadata": {},
   "outputs": [],
   "source": [
    "df = pd.read_csv('Elongation_tiny_regression.csv')"
   ]
  },
  {
   "cell_type": "code",
   "execution_count": 43,
   "id": "talented-graduation",
   "metadata": {},
   "outputs": [],
   "source": [
    "X = df.iloc[:,:df.shape[1]-1]\n",
    "y = df.iloc[:,df.shape[1]-1]"
   ]
  },
  {
   "cell_type": "code",
   "execution_count": 44,
   "id": "parental-kenya",
   "metadata": {},
   "outputs": [],
   "source": [
    "X_train, X_test, y_train, y_test = train_test_split(X,y, random_state=0)"
   ]
  },
  {
   "cell_type": "code",
   "execution_count": 45,
   "id": "blond-rouge",
   "metadata": {},
   "outputs": [
    {
     "name": "stderr",
     "output_type": "stream",
     "text": [
      "C:\\Software\\Anaconda\\envs\\pycaret\\lib\\site-packages\\scipy\\stats\\_continuous_distns.py:5001: RuntimeWarning: divide by zero encountered in true_divide\n",
      "  return c**2 / (c**2 - n**2)\n",
      "C:\\Software\\Anaconda\\envs\\pycaret\\lib\\site-packages\\scipy\\stats\\_distn_infrastructure.py:2494: RuntimeWarning: invalid value encountered in double_scalars\n",
      "  Lhat = muhat - Shat*mu\n",
      "C:\\Software\\Anaconda\\envs\\pycaret\\lib\\site-packages\\scipy\\stats\\_continuous_distns.py:621: RuntimeWarning: invalid value encountered in sqrt\n",
      "  sk = 2*(b-a)*np.sqrt(a + b + 1) / (a + b + 2) / np.sqrt(a*b)\n",
      "C:\\Software\\Anaconda\\envs\\pycaret\\lib\\site-packages\\scipy\\optimize\\minpack.py:175: RuntimeWarning: The iteration is not making good progress, as measured by the \n",
      "  improvement from the last ten iterations.\n",
      "  warnings.warn(msg, RuntimeWarning)\n",
      "C:\\Software\\Anaconda\\envs\\pycaret\\lib\\site-packages\\copulas\\univariate\\truncated_gaussian.py:43: RuntimeWarning: divide by zero encountered in double_scalars\n",
      "  a = (self.min - loc) / scale\n",
      "C:\\Software\\Anaconda\\envs\\pycaret\\lib\\site-packages\\copulas\\univariate\\truncated_gaussian.py:44: RuntimeWarning: divide by zero encountered in double_scalars\n",
      "  b = (self.max - loc) / scale\n",
      "C:\\Software\\Anaconda\\envs\\pycaret\\lib\\site-packages\\scipy\\stats\\_continuous_distns.py:4992: RuntimeWarning: divide by zero encountered in power\n",
      "  return cd2*x**(c-1)\n",
      "C:\\Software\\Anaconda\\envs\\pycaret\\lib\\site-packages\\copulas\\univariate\\truncated_gaussian.py:43: RuntimeWarning: invalid value encountered in double_scalars\n",
      "  a = (self.min - loc) / scale\n"
     ]
    }
   ],
   "source": [
    "model = GaussianCopula()\n",
    "model.fit(X_train)"
   ]
  },
  {
   "cell_type": "code",
   "execution_count": 46,
   "id": "suspected-locking",
   "metadata": {},
   "outputs": [],
   "source": [
    "new_data = model.sample(288)"
   ]
  },
  {
   "cell_type": "code",
   "execution_count": 47,
   "id": "applicable-reporter",
   "metadata": {},
   "outputs": [
    {
     "data": {
      "text/plain": [
       "{'_field_distributions': {'C': Univariate,\n",
       "  'SI': Univariate,\n",
       "  'MN': Univariate,\n",
       "  'P': Univariate,\n",
       "  'S': Univariate,\n",
       "  'CU': Univariate,\n",
       "  'MG': Univariate,\n",
       "  'CR': Univariate,\n",
       "  'NI': Univariate,\n",
       "  'PB': Univariate,\n",
       "  'AL': Univariate,\n",
       "  'MO': Univariate,\n",
       "  'TI': Univariate,\n",
       "  'SN': Univariate,\n",
       "  'V': Univariate,\n",
       "  'ZN': Univariate,\n",
       "  'CE': Univariate},\n",
       " '_default_distribution': Univariate,\n",
       " '_categorical_transformer': 'one_hot_encoding',\n",
       " '_DTYPE_TRANSFORMERS': {'O': 'one_hot_encoding'},\n",
       " '_metadata': Table(name=None, field_names=['C', 'SI', 'MN', 'P', 'S', 'CU', 'MG', 'CR', 'NI', 'PB', 'AL', 'MO', 'TI', 'SN', 'V', 'ZN', 'CE']),\n",
       " '_metadata_fitted': False,\n",
       " '_num_rows': 288,\n",
       " '_model': GaussianMultivariate(distribution=\"{'C': Univariate, 'SI': Univariate, 'MN': Univariate, 'P': Univariate, 'S': Univariate, 'CU': Univariate, 'MG': Univariate, 'CR': Univariate, 'NI': Univariate, 'PB': Univariate, 'AL': Univariate, 'MO': Univariate, 'TI': Univariate, 'SN': Univariate, 'V': Univariate, 'ZN': Univariate, 'CE': Univariate}\")}"
      ]
     },
     "execution_count": 47,
     "metadata": {},
     "output_type": "execute_result"
    }
   ],
   "source": [
    "model.__dict__"
   ]
  },
  {
   "cell_type": "code",
   "execution_count": 50,
   "id": "tested-resolution",
   "metadata": {},
   "outputs": [
    {
     "data": {
      "text/html": [
       "<div>\n",
       "<style scoped>\n",
       "    .dataframe tbody tr th:only-of-type {\n",
       "        vertical-align: middle;\n",
       "    }\n",
       "\n",
       "    .dataframe tbody tr th {\n",
       "        vertical-align: top;\n",
       "    }\n",
       "\n",
       "    .dataframe thead th {\n",
       "        text-align: right;\n",
       "    }\n",
       "</style>\n",
       "<table border=\"1\" class=\"dataframe\">\n",
       "  <thead>\n",
       "    <tr style=\"text-align: right;\">\n",
       "      <th></th>\n",
       "      <th>C</th>\n",
       "      <th>SI</th>\n",
       "      <th>MN</th>\n",
       "      <th>P</th>\n",
       "      <th>S</th>\n",
       "      <th>CU</th>\n",
       "      <th>MG</th>\n",
       "      <th>CR</th>\n",
       "      <th>NI</th>\n",
       "      <th>PB</th>\n",
       "      <th>AL</th>\n",
       "      <th>MO</th>\n",
       "      <th>TI</th>\n",
       "      <th>SN</th>\n",
       "      <th>V</th>\n",
       "      <th>ZN</th>\n",
       "      <th>CE</th>\n",
       "    </tr>\n",
       "  </thead>\n",
       "  <tbody>\n",
       "    <tr>\n",
       "      <th>0</th>\n",
       "      <td>3.307775</td>\n",
       "      <td>2.711292</td>\n",
       "      <td>0.305037</td>\n",
       "      <td>-0.010283</td>\n",
       "      <td>0.007136</td>\n",
       "      <td>0.047606</td>\n",
       "      <td>0.045510</td>\n",
       "      <td>0.048148</td>\n",
       "      <td>0.044301</td>\n",
       "      <td>0.355823</td>\n",
       "      <td>0.007447</td>\n",
       "      <td>0.005354</td>\n",
       "      <td>0.006906</td>\n",
       "      <td>0.003883</td>\n",
       "      <td>0.004</td>\n",
       "      <td>-0.001511</td>\n",
       "      <td>0.004814</td>\n",
       "    </tr>\n",
       "    <tr>\n",
       "      <th>1</th>\n",
       "      <td>3.221639</td>\n",
       "      <td>2.769092</td>\n",
       "      <td>0.330251</td>\n",
       "      <td>0.015008</td>\n",
       "      <td>0.008895</td>\n",
       "      <td>0.061119</td>\n",
       "      <td>0.045384</td>\n",
       "      <td>0.047993</td>\n",
       "      <td>0.030824</td>\n",
       "      <td>0.323544</td>\n",
       "      <td>0.009053</td>\n",
       "      <td>0.000872</td>\n",
       "      <td>0.008507</td>\n",
       "      <td>0.004700</td>\n",
       "      <td>0.004</td>\n",
       "      <td>-0.003905</td>\n",
       "      <td>0.005466</td>\n",
       "    </tr>\n",
       "    <tr>\n",
       "      <th>2</th>\n",
       "      <td>3.423502</td>\n",
       "      <td>2.765461</td>\n",
       "      <td>0.331191</td>\n",
       "      <td>0.013017</td>\n",
       "      <td>0.008324</td>\n",
       "      <td>0.063703</td>\n",
       "      <td>0.049269</td>\n",
       "      <td>0.041416</td>\n",
       "      <td>0.030330</td>\n",
       "      <td>0.273947</td>\n",
       "      <td>0.008634</td>\n",
       "      <td>0.002774</td>\n",
       "      <td>0.007741</td>\n",
       "      <td>0.003499</td>\n",
       "      <td>0.004</td>\n",
       "      <td>0.003617</td>\n",
       "      <td>0.006657</td>\n",
       "    </tr>\n",
       "    <tr>\n",
       "      <th>3</th>\n",
       "      <td>3.475163</td>\n",
       "      <td>2.724156</td>\n",
       "      <td>0.325363</td>\n",
       "      <td>0.013451</td>\n",
       "      <td>0.008623</td>\n",
       "      <td>0.093963</td>\n",
       "      <td>0.047413</td>\n",
       "      <td>0.044873</td>\n",
       "      <td>0.041513</td>\n",
       "      <td>0.278679</td>\n",
       "      <td>0.006770</td>\n",
       "      <td>0.008333</td>\n",
       "      <td>0.007442</td>\n",
       "      <td>0.002832</td>\n",
       "      <td>0.004</td>\n",
       "      <td>-0.004985</td>\n",
       "      <td>0.003203</td>\n",
       "    </tr>\n",
       "    <tr>\n",
       "      <th>4</th>\n",
       "      <td>3.532313</td>\n",
       "      <td>2.807148</td>\n",
       "      <td>0.322026</td>\n",
       "      <td>0.012681</td>\n",
       "      <td>0.009068</td>\n",
       "      <td>0.069889</td>\n",
       "      <td>0.048955</td>\n",
       "      <td>0.045182</td>\n",
       "      <td>0.032618</td>\n",
       "      <td>0.248997</td>\n",
       "      <td>0.007802</td>\n",
       "      <td>0.010874</td>\n",
       "      <td>0.007216</td>\n",
       "      <td>0.003774</td>\n",
       "      <td>0.004</td>\n",
       "      <td>0.011479</td>\n",
       "      <td>0.003525</td>\n",
       "    </tr>\n",
       "    <tr>\n",
       "      <th>...</th>\n",
       "      <td>...</td>\n",
       "      <td>...</td>\n",
       "      <td>...</td>\n",
       "      <td>...</td>\n",
       "      <td>...</td>\n",
       "      <td>...</td>\n",
       "      <td>...</td>\n",
       "      <td>...</td>\n",
       "      <td>...</td>\n",
       "      <td>...</td>\n",
       "      <td>...</td>\n",
       "      <td>...</td>\n",
       "      <td>...</td>\n",
       "      <td>...</td>\n",
       "      <td>...</td>\n",
       "      <td>...</td>\n",
       "      <td>...</td>\n",
       "    </tr>\n",
       "    <tr>\n",
       "      <th>283</th>\n",
       "      <td>3.288124</td>\n",
       "      <td>2.576042</td>\n",
       "      <td>0.267423</td>\n",
       "      <td>0.012452</td>\n",
       "      <td>0.009631</td>\n",
       "      <td>0.067247</td>\n",
       "      <td>0.034624</td>\n",
       "      <td>0.036331</td>\n",
       "      <td>0.031482</td>\n",
       "      <td>0.375807</td>\n",
       "      <td>0.006777</td>\n",
       "      <td>0.004864</td>\n",
       "      <td>0.004742</td>\n",
       "      <td>0.002875</td>\n",
       "      <td>0.004</td>\n",
       "      <td>-0.007300</td>\n",
       "      <td>0.002530</td>\n",
       "    </tr>\n",
       "    <tr>\n",
       "      <th>284</th>\n",
       "      <td>3.503367</td>\n",
       "      <td>2.850274</td>\n",
       "      <td>0.314098</td>\n",
       "      <td>0.012118</td>\n",
       "      <td>0.008558</td>\n",
       "      <td>0.060928</td>\n",
       "      <td>0.039727</td>\n",
       "      <td>0.041410</td>\n",
       "      <td>0.030951</td>\n",
       "      <td>0.109204</td>\n",
       "      <td>0.007555</td>\n",
       "      <td>0.000518</td>\n",
       "      <td>0.005198</td>\n",
       "      <td>0.002223</td>\n",
       "      <td>0.004</td>\n",
       "      <td>0.024147</td>\n",
       "      <td>0.003207</td>\n",
       "    </tr>\n",
       "    <tr>\n",
       "      <th>285</th>\n",
       "      <td>3.511553</td>\n",
       "      <td>2.610203</td>\n",
       "      <td>0.323217</td>\n",
       "      <td>0.011511</td>\n",
       "      <td>0.007731</td>\n",
       "      <td>0.057637</td>\n",
       "      <td>0.049765</td>\n",
       "      <td>0.039438</td>\n",
       "      <td>0.028291</td>\n",
       "      <td>0.344983</td>\n",
       "      <td>0.005903</td>\n",
       "      <td>-0.000599</td>\n",
       "      <td>0.006376</td>\n",
       "      <td>0.003227</td>\n",
       "      <td>0.004</td>\n",
       "      <td>-0.000993</td>\n",
       "      <td>0.004367</td>\n",
       "    </tr>\n",
       "    <tr>\n",
       "      <th>286</th>\n",
       "      <td>3.593953</td>\n",
       "      <td>2.718441</td>\n",
       "      <td>0.317527</td>\n",
       "      <td>0.012675</td>\n",
       "      <td>0.008733</td>\n",
       "      <td>0.071138</td>\n",
       "      <td>0.053652</td>\n",
       "      <td>0.049030</td>\n",
       "      <td>0.040883</td>\n",
       "      <td>0.334462</td>\n",
       "      <td>0.006732</td>\n",
       "      <td>0.003841</td>\n",
       "      <td>0.007127</td>\n",
       "      <td>0.003792</td>\n",
       "      <td>0.004</td>\n",
       "      <td>0.003676</td>\n",
       "      <td>0.004673</td>\n",
       "    </tr>\n",
       "    <tr>\n",
       "      <th>287</th>\n",
       "      <td>3.592536</td>\n",
       "      <td>2.846074</td>\n",
       "      <td>0.342896</td>\n",
       "      <td>0.012213</td>\n",
       "      <td>0.010052</td>\n",
       "      <td>0.044081</td>\n",
       "      <td>0.041701</td>\n",
       "      <td>0.032295</td>\n",
       "      <td>0.025194</td>\n",
       "      <td>0.303446</td>\n",
       "      <td>0.009536</td>\n",
       "      <td>0.003045</td>\n",
       "      <td>0.008425</td>\n",
       "      <td>0.002742</td>\n",
       "      <td>0.004</td>\n",
       "      <td>0.019685</td>\n",
       "      <td>0.004638</td>\n",
       "    </tr>\n",
       "  </tbody>\n",
       "</table>\n",
       "<p>288 rows × 17 columns</p>\n",
       "</div>"
      ],
      "text/plain": [
       "            C        SI        MN  ...      V        ZN        CE\n",
       "0    3.307775  2.711292  0.305037  ...  0.004 -0.001511  0.004814\n",
       "1    3.221639  2.769092  0.330251  ...  0.004 -0.003905  0.005466\n",
       "2    3.423502  2.765461  0.331191  ...  0.004  0.003617  0.006657\n",
       "3    3.475163  2.724156  0.325363  ...  0.004 -0.004985  0.003203\n",
       "4    3.532313  2.807148  0.322026  ...  0.004  0.011479  0.003525\n",
       "..        ...       ...       ...  ...    ...       ...       ...\n",
       "283  3.288124  2.576042  0.267423  ...  0.004 -0.007300  0.002530\n",
       "284  3.503367  2.850274  0.314098  ...  0.004  0.024147  0.003207\n",
       "285  3.511553  2.610203  0.323217  ...  0.004 -0.000993  0.004367\n",
       "286  3.593953  2.718441  0.317527  ...  0.004  0.003676  0.004673\n",
       "287  3.592536  2.846074  0.342896  ...  0.004  0.019685  0.004638\n",
       "\n",
       "[288 rows x 17 columns]"
      ]
     },
     "execution_count": 50,
     "metadata": {},
     "output_type": "execute_result"
    }
   ],
   "source": [
    "new_data"
   ]
  },
  {
   "cell_type": "code",
   "execution_count": 26,
   "id": "graphic-florist",
   "metadata": {},
   "outputs": [],
   "source": [
    "from sklearn.linear_model import LinearRegression\n",
    "from sklearn import metrics"
   ]
  },
  {
   "cell_type": "code",
   "execution_count": 22,
   "id": "prostate-defensive",
   "metadata": {},
   "outputs": [],
   "source": [
    "lr = LinearRegression()"
   ]
  },
  {
   "cell_type": "code",
   "execution_count": 27,
   "id": "honey-motivation",
   "metadata": {},
   "outputs": [],
   "source": [
    "lr_model = lr.fit(X_train,y_train)"
   ]
  },
  {
   "cell_type": "code",
   "execution_count": 28,
   "id": "friendly-floor",
   "metadata": {},
   "outputs": [],
   "source": [
    "y_train_pred = lr_model.predict(X_train)"
   ]
  },
  {
   "cell_type": "code",
   "execution_count": 29,
   "id": "behavioral-henry",
   "metadata": {},
   "outputs": [
    {
     "data": {
      "text/plain": [
       "0.6253047462847958"
      ]
     },
     "execution_count": 29,
     "metadata": {},
     "output_type": "execute_result"
    }
   ],
   "source": [
    "metrics.r2_score(y_train,y_train_pred)"
   ]
  },
  {
   "cell_type": "code",
   "execution_count": 30,
   "id": "broke-maldives",
   "metadata": {},
   "outputs": [],
   "source": [
    "y_test_pred = lr_model.predict(X_test)"
   ]
  },
  {
   "cell_type": "code",
   "execution_count": 31,
   "id": "statutory-fruit",
   "metadata": {},
   "outputs": [
    {
     "data": {
      "text/plain": [
       "0.5773009466132242"
      ]
     },
     "execution_count": 31,
     "metadata": {},
     "output_type": "execute_result"
    }
   ],
   "source": [
    "metrics.r2_score(y_test, y_test_pred)"
   ]
  },
  {
   "cell_type": "code",
   "execution_count": 36,
   "id": "trying-scanning",
   "metadata": {},
   "outputs": [],
   "source": [
    "new_data_pred = lr_model.predict(new_data)"
   ]
  },
  {
   "cell_type": "code",
   "execution_count": 40,
   "id": "identical-amazon",
   "metadata": {},
   "outputs": [
    {
     "data": {
      "text/plain": [
       "-1.7541595923063218"
      ]
     },
     "execution_count": 40,
     "metadata": {},
     "output_type": "execute_result"
    }
   ],
   "source": [
    "metrics.r2_score(new_data_pred,y_train)"
   ]
  },
  {
   "cell_type": "code",
   "execution_count": 33,
   "id": "novel-mexico",
   "metadata": {},
   "outputs": [
    {
     "data": {
      "text/plain": [
       "(288, 17)"
      ]
     },
     "execution_count": 33,
     "metadata": {},
     "output_type": "execute_result"
    }
   ],
   "source": [
    "X_train.shape"
   ]
  },
  {
   "cell_type": "code",
   "execution_count": 49,
   "id": "corporate-edward",
   "metadata": {
    "collapsed": true,
    "jupyter": {
     "outputs_hidden": true
    }
   },
   "outputs": [
    {
     "data": {
      "text/plain": [
       "array([14.78741477, 17.98139042, 18.54709974, 17.97375203, 17.93129628,\n",
       "       17.92172567, 17.76533007, 15.35765752, 18.93938388, 17.18796211,\n",
       "       17.14860551, 17.66453937, 19.20246203, 17.27518718, 18.55654239,\n",
       "       19.95253852, 18.82591063, 16.29022983, 17.59117512, 17.45211895,\n",
       "       15.6757948 , 15.45149362, 15.76182353, 18.70208908, 18.59045628,\n",
       "       18.24308564, 17.04164817, 18.26423004, 15.21393749, 16.92348886,\n",
       "       18.08980628, 17.48420996, 16.51601976, 18.78360513, 19.08432088,\n",
       "       19.40134481, 16.82688119, 16.71951546, 19.09288824, 18.67563056,\n",
       "       16.22881972, 19.52740818, 17.20659079, 16.6179827 , 16.59238654,\n",
       "       18.52736879, 16.7441924 , 17.63530718, 17.87365187, 18.83251115,\n",
       "       16.01456889, 18.05545346, 15.22095022, 17.62364082, 16.69928094,\n",
       "       17.03932072, 15.60068354, 18.12730796, 18.28445563, 16.31683422,\n",
       "       17.07514743, 18.38980185, 16.87483214, 18.4272351 , 17.68481417,\n",
       "       17.38033253, 16.1857695 , 18.43210032, 19.09281545, 17.31304797,\n",
       "       17.25094405, 17.660413  , 16.16373945, 18.98250323, 17.69819825,\n",
       "       17.37237107, 17.56555653, 18.16414342, 17.02891027, 17.61080032,\n",
       "       18.37793099, 16.83125136, 16.86456303, 15.97691464, 17.59124487,\n",
       "       16.93298541, 17.89891484, 16.39014214, 16.99352815, 19.83604406,\n",
       "       16.53733662, 18.48263553, 17.10876509, 18.09789648, 17.55939398,\n",
       "       16.0883058 , 19.06386205, 17.78681425, 17.1420552 , 17.74499837,\n",
       "       16.34057476, 15.58622638, 19.20669073, 15.22028907, 18.50196087,\n",
       "       19.37766803, 17.72256416, 19.07995936, 17.90487187, 15.55659749,\n",
       "       19.09441066, 18.34104984, 19.34642089, 18.24168482, 19.12951268,\n",
       "       19.31020823, 17.91103648, 17.51141601, 17.54999   , 17.68875457,\n",
       "       18.29977494, 17.11541845, 18.55925438, 18.47065326, 17.71762227,\n",
       "       17.29125907, 17.83489497, 16.99252196, 16.79503776, 19.84765732,\n",
       "       20.3670274 , 17.26612459, 18.94965384, 18.76810039, 18.16151698,\n",
       "       20.43614245, 16.39726758, 17.79168534, 18.50037432, 19.02632069,\n",
       "       17.21334608, 17.3327438 , 16.32385953, 17.95046093, 16.36324117,\n",
       "       15.339937  , 17.53788346, 15.8385727 , 17.43891893, 18.19855305,\n",
       "       18.90040467, 18.95032206, 18.20177846, 17.69451485, 18.01271631,\n",
       "       17.62236521, 15.94859293, 16.96921214, 18.89596447, 16.63690353,\n",
       "       16.20443158, 17.59190918, 15.82311312, 10.97745562, 16.28165   ,\n",
       "       16.84270231, 15.61377414, 15.87137532, 18.83537004, 17.6091796 ,\n",
       "       16.19441218, 17.76503369, 16.194968  , 19.23341255, 20.14921007,\n",
       "       17.33918353, 18.24869308, 15.12208366, 17.36005152, 16.55216083,\n",
       "       15.60659354, 15.73138358, 17.40678262, 17.74277777, 18.69068325,\n",
       "       17.76255951, 19.31867746, 18.15597926, 18.01838497, 16.82628008,\n",
       "       17.8668275 , 17.09304151, 16.62927033, 17.57394153, 17.47405837,\n",
       "       16.9665512 , 16.0226342 , 18.25050839, 18.88793374, 15.80788342,\n",
       "       18.8070657 , 17.62279004, 16.84667994, 18.86592207, 18.38999257,\n",
       "       15.7290012 , 19.10684821, 17.01774911, 16.10354977, 16.51621047,\n",
       "       18.22966734, 16.64973504, 18.10029098, 16.14524137, 15.66280456,\n",
       "       16.67736131, 17.54982218, 18.75783905, 15.84124119, 17.41146287,\n",
       "       18.70394581, 17.50977776, 16.88363571, 16.53460384, 17.17518245,\n",
       "       17.78155382, 19.91412228, 17.07957768, 17.73501224, 18.67126677,\n",
       "       18.49189794, 19.61561562, 17.28470564, 17.87428631, 16.21034638,\n",
       "       20.20525149, 17.62140748, 17.92805821, 18.0139541 , 18.68227909,\n",
       "       16.62725518, 16.14463345, 16.34528149, 16.87024118, 15.32070533,\n",
       "       15.92931889, 15.46488634, 17.05159767, 15.74718746, 16.99625098,\n",
       "       17.38250248, 17.73906908, 18.91384743, 18.16916626, 17.11856491,\n",
       "       17.7377038 , 17.88793792, 19.01301458, 18.59485425, 17.84979032,\n",
       "       17.81715215, 18.01553567, 18.91278996, 16.00463435, 19.74862035,\n",
       "       18.07586834, 18.42865209, 22.21701438, 15.63328892, 16.45030217,\n",
       "       16.30291348, 17.34316164, 17.39315796, 16.65909562, 18.23910963,\n",
       "       16.70372228, 17.08475494, 16.65434372, 18.84489489, 17.2793588 ,\n",
       "       20.17094262, 17.85940965, 16.96217727, 19.4058698 , 17.88093184,\n",
       "       17.70346249, 16.43919262, 19.82636064])"
      ]
     },
     "execution_count": 49,
     "metadata": {},
     "output_type": "execute_result"
    }
   ],
   "source": [
    "new_data_pred"
   ]
  },
  {
   "cell_type": "code",
   "execution_count": null,
   "id": "anticipated-privilege",
   "metadata": {},
   "outputs": [],
   "source": []
  }
 ],
 "metadata": {
  "kernelspec": {
   "display_name": "Python 3",
   "language": "python",
   "name": "python3"
  },
  "language_info": {
   "codemirror_mode": {
    "name": "ipython",
    "version": 3
   },
   "file_extension": ".py",
   "mimetype": "text/x-python",
   "name": "python",
   "nbconvert_exporter": "python",
   "pygments_lexer": "ipython3",
   "version": "3.8.5"
  }
 },
 "nbformat": 4,
 "nbformat_minor": 5
}
